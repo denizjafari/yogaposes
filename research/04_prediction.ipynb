{
 "cells": [
  {
   "cell_type": "code",
   "execution_count": 1,
   "metadata": {},
   "outputs": [],
   "source": [
    "import os"
   ]
  },
  {
   "cell_type": "code",
   "execution_count": 2,
   "metadata": {},
   "outputs": [
    {
     "data": {
      "text/plain": [
       "'/home/jafarid/code/yogaposes/research'"
      ]
     },
     "execution_count": 2,
     "metadata": {},
     "output_type": "execute_result"
    }
   ],
   "source": [
    "%pwd"
   ]
  },
  {
   "cell_type": "code",
   "execution_count": 3,
   "metadata": {},
   "outputs": [
    {
     "data": {
      "text/plain": [
       "'/home/jafarid/code/yogaposes'"
      ]
     },
     "execution_count": 3,
     "metadata": {},
     "output_type": "execute_result"
    }
   ],
   "source": [
    "os.chdir('../')\n",
    "%pwd"
   ]
  },
  {
   "cell_type": "code",
   "execution_count": 7,
   "metadata": {},
   "outputs": [],
   "source": [
    "from pathlib import Path\n",
    "import torch\n",
    "from torchvision.transforms import Compose, ToTensor, Normalize, Resize, CenterCrop\n",
    "\n",
    "import numpy as np\n",
    "\n",
    "from PIL import ImageFile, Image"
   ]
  },
  {
   "cell_type": "code",
   "execution_count": 13,
   "metadata": {},
   "outputs": [],
   "source": [
    "class PosePrediction(): \n",
    "    def __init__(self, base_model_path=None, train_model_path=None):\n",
    "        \n",
    "        self.base_model_path = base_model_path if base_model_path else Path('artifacts/prepare_base_model/resnet_updated_base_model.pth')\n",
    "        self.trained_model_path = train_model_path if train_model_path else Path('artifacts/training/resnet_model.pth')\n",
    "        self.model = self.load_model()\n",
    "        self.load_checkpoint()\n",
    "        self.device = 'cuda' if torch.cuda.is_available() else 'cpu'\n",
    "        #self.device = 'cpu'\n",
    "        self.model.to(self.device)\n",
    "        \n",
    "        \n",
    "    def load_model(self): \n",
    "        return torch.load(self.base_model_path)\n",
    "    \n",
    "    def load_checkpoint(self):\n",
    "        checkpoint = torch.load(self.trained_model_path)\n",
    "        self.model.load_state_dict(checkpoint[\"model_state_dict\"])   \n",
    "        self.model.train() # always use train for resuming traning\n",
    "        \n",
    "    def display_image(self,image_path):\n",
    "        try:\n",
    "        # Open the image file\n",
    "            img = Image.open(image_path)\n",
    "        # Display the image\n",
    "            img.show()\n",
    "        except IOError:\n",
    "            print(f\"Error opening the image file at {image_path}. Please ensure the file exists and is an image.\")\n",
    "\n",
    "        \n",
    "        \n",
    "    def _preprocess_image(self, filename):\n",
    "        image = Image.open(filename)\n",
    "        # Allow loading of truncated images\n",
    "        ImageFile.LOAD_TRUNCATED_IMAGES = True\n",
    "        \n",
    "        # image net statistics\n",
    "        normalizer = Normalize(mean=[0.485, 0.456, 0.406], std=[0.229,0.224,0.225])\n",
    "        \n",
    "        composer = Compose([Resize(256), CenterCrop(224), ToTensor(), normalizer])\n",
    "        image = composer(image).unsqueeze(0)\n",
    "        return image\n",
    "        \n",
    "    \n",
    "    def predict(self,x_filename):\n",
    "        \n",
    "        self.load_checkpoint()\n",
    "        self.model.eval()\n",
    "        x = self._preprocess_image(x_filename)\n",
    "        x_tensor = torch.as_tensor(x).float()\n",
    "        y_hat_tensor = self.model(x_tensor.to(self.device))\n",
    "        \n",
    "        # set it back to the train mode\n",
    "        self.model.train()\n",
    "        \n",
    "        labels = {0:'downdog', 1: 'godess', 2:'plank', 3:'tree', 4:'warrior2'}\n",
    "        prediction=np.argmax(y_hat_tensor.detach().cpu().numpy())\n",
    "        \n",
    "        return labels[prediction]\n",
    "    \n",
    "        "
   ]
  },
  {
   "cell_type": "code",
   "execution_count": 14,
   "metadata": {},
   "outputs": [
    {
     "name": "stdout",
     "output_type": "stream",
     "text": [
      "downdog\n"
     ]
    }
   ],
   "source": [
    "try: \n",
    "    prediction = PosePrediction()\n",
    "    \n",
    "    image_path = 'artifacts/data_ingestion/yoga-poses-dataset/DATASET/TRAIN/downdog/00000128.jpg'\n",
    "    c= prediction.predict(image_path)\n",
    "    prediction.display_image(image_path)\n",
    "    #prediction.display_image(c)\n",
    "    print(c)\n",
    "except Exception as e:\n",
    "    raise e"
   ]
  },
  {
   "cell_type": "code",
   "execution_count": null,
   "metadata": {},
   "outputs": [],
   "source": []
  }
 ],
 "metadata": {
  "kernelspec": {
   "display_name": "yogaposes",
   "language": "python",
   "name": "python3"
  },
  "language_info": {
   "codemirror_mode": {
    "name": "ipython",
    "version": 3
   },
   "file_extension": ".py",
   "mimetype": "text/x-python",
   "name": "python",
   "nbconvert_exporter": "python",
   "pygments_lexer": "ipython3",
   "version": "3.8.0"
  }
 },
 "nbformat": 4,
 "nbformat_minor": 2
}
