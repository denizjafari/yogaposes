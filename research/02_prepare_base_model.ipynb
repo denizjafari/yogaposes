{
 "cells": [
  {
   "cell_type": "code",
   "execution_count": null,
   "metadata": {},
   "outputs": [],
   "source": [
    "\n",
    "\n"
   ]
  },
  {
   "cell_type": "code",
   "execution_count": 1,
   "metadata": {},
   "outputs": [
    {
     "data": {
      "text/plain": [
       "'/home/jafarid/code/yogaposes'"
      ]
     },
     "execution_count": 1,
     "metadata": {},
     "output_type": "execute_result"
    }
   ],
   "source": [
    "\n",
    "import os\n",
    "os.chdir('../')\n",
    "%pwd"
   ]
  },
  {
   "cell_type": "code",
   "execution_count": 45,
   "metadata": {},
   "outputs": [],
   "source": [
    "from dataclasses import dataclass\n",
    "from pathlib import Path\n",
    "\n",
    "@dataclass(frozen=True)\n",
    "class PrepareBaseModelConfig:\n",
    "    root_dir: Path\n",
    "    resnet_base_model_path: Path\n",
    "    resnet_updated_base_model_path: Path\n",
    "    params_class: int\n",
    "    params_image_size: list\n",
    "    params_pretrained: bool"
   ]
  },
  {
   "cell_type": "code",
   "execution_count": 35,
   "metadata": {},
   "outputs": [],
   "source": [
    "from yogaposes.constants import *\n",
    "from yogaposes.utils.common import read_yaml, create_directories\n"
   ]
  },
  {
   "cell_type": "code",
   "execution_count": 47,
   "metadata": {},
   "outputs": [],
   "source": [
    "class ConfigurationManager: \n",
    "    def __init__(self, config_file_path= CONFIG_FILE_PATH, params_file_path= PARAMS_FILE_PATH):\n",
    "        self.config = read_yaml(config_file_path)\n",
    "        self.params = read_yaml(params_file_path)\n",
    "        \n",
    "        create_directories([self.config.artifacts_root])\n",
    "\n",
    "    def get_prepare_base_model_config(self) -> PrepareBaseModelConfig:\n",
    "        config = self.config.prepare_base_model\n",
    "        create_directories([config.root_dir])\n",
    "\n",
    "        get_prepare_base_model_config = PrepareBaseModelConfig(root_dir= config.root_dir,\n",
    "                                                               resnet_base_model_path=config.resnet_base_model_path,\n",
    "                                                               resnet_updated_base_model_path= config.resnet_updated_base_model_path,\n",
    "                                                               params_class=self.params.CLASSES,\n",
    "                                                               params_image_size= self.params.IMAGE_SIZE,\n",
    "                                                               params_pretrained = self.params.PRETRAINED\n",
    "                                                               )\n",
    "\n",
    "        return get_prepare_base_model_config\n",
    "    "
   ]
  },
  {
   "cell_type": "code",
   "execution_count": 5,
   "metadata": {},
   "outputs": [],
   "source": [
    "import os\n",
    "from torchvision import models\n",
    "import torch \n",
    "from torchsummary import summary\n",
    "from yogaposes import logger "
   ]
  },
  {
   "cell_type": "code",
   "execution_count": 7,
   "metadata": {},
   "outputs": [
    {
     "name": "stderr",
     "output_type": "stream",
     "text": [
      "/home/jafarid/miniconda3/envs/yogaposes/lib/python3.8/site-packages/torchvision/models/_utils.py:208: UserWarning: The parameter 'pretrained' is deprecated since 0.13 and may be removed in the future, please use 'weights' instead.\n",
      "  warnings.warn(\n",
      "/home/jafarid/miniconda3/envs/yogaposes/lib/python3.8/site-packages/torchvision/models/_utils.py:223: UserWarning: Arguments other than a weight enum or `None` for 'weights' are deprecated since 0.13 and may be removed in the future. The current behavior is equivalent to passing `weights=ResNet18_Weights.IMAGENET1K_V1`. You can also use `weights=ResNet18_Weights.DEFAULT` to get the most up-to-date weights.\n",
      "  warnings.warn(msg)\n",
      "Downloading: \"https://download.pytorch.org/models/resnet18-f37072fd.pth\" to /home/jafarid/.cache/torch/hub/checkpoints/resnet18-f37072fd.pth\n",
      "100%|██████████| 44.7M/44.7M [00:04<00:00, 11.7MB/s]\n"
     ]
    },
    {
     "name": "stdout",
     "output_type": "stream",
     "text": [
      "----------------------------------------------------------------\n",
      "        Layer (type)               Output Shape         Param #\n",
      "================================================================\n",
      "            Conv2d-1         [15, 64, 122, 122]           9,408\n",
      "       BatchNorm2d-2         [15, 64, 122, 122]             128\n",
      "              ReLU-3         [15, 64, 122, 122]               0\n",
      "         MaxPool2d-4           [15, 64, 61, 61]               0\n",
      "            Conv2d-5           [15, 64, 61, 61]          36,864\n",
      "       BatchNorm2d-6           [15, 64, 61, 61]             128\n",
      "              ReLU-7           [15, 64, 61, 61]               0\n",
      "            Conv2d-8           [15, 64, 61, 61]          36,864\n",
      "       BatchNorm2d-9           [15, 64, 61, 61]             128\n",
      "             ReLU-10           [15, 64, 61, 61]               0\n",
      "       BasicBlock-11           [15, 64, 61, 61]               0\n",
      "           Conv2d-12           [15, 64, 61, 61]          36,864\n",
      "      BatchNorm2d-13           [15, 64, 61, 61]             128\n",
      "             ReLU-14           [15, 64, 61, 61]               0\n",
      "           Conv2d-15           [15, 64, 61, 61]          36,864\n",
      "      BatchNorm2d-16           [15, 64, 61, 61]             128\n",
      "             ReLU-17           [15, 64, 61, 61]               0\n",
      "       BasicBlock-18           [15, 64, 61, 61]               0\n",
      "           Conv2d-19          [15, 128, 31, 31]          73,728\n",
      "      BatchNorm2d-20          [15, 128, 31, 31]             256\n",
      "             ReLU-21          [15, 128, 31, 31]               0\n",
      "           Conv2d-22          [15, 128, 31, 31]         147,456\n",
      "      BatchNorm2d-23          [15, 128, 31, 31]             256\n",
      "           Conv2d-24          [15, 128, 31, 31]           8,192\n",
      "      BatchNorm2d-25          [15, 128, 31, 31]             256\n",
      "             ReLU-26          [15, 128, 31, 31]               0\n",
      "       BasicBlock-27          [15, 128, 31, 31]               0\n",
      "           Conv2d-28          [15, 128, 31, 31]         147,456\n",
      "      BatchNorm2d-29          [15, 128, 31, 31]             256\n",
      "             ReLU-30          [15, 128, 31, 31]               0\n",
      "           Conv2d-31          [15, 128, 31, 31]         147,456\n",
      "      BatchNorm2d-32          [15, 128, 31, 31]             256\n",
      "             ReLU-33          [15, 128, 31, 31]               0\n",
      "       BasicBlock-34          [15, 128, 31, 31]               0\n",
      "           Conv2d-35          [15, 256, 16, 16]         294,912\n",
      "      BatchNorm2d-36          [15, 256, 16, 16]             512\n",
      "             ReLU-37          [15, 256, 16, 16]               0\n",
      "           Conv2d-38          [15, 256, 16, 16]         589,824\n",
      "      BatchNorm2d-39          [15, 256, 16, 16]             512\n",
      "           Conv2d-40          [15, 256, 16, 16]          32,768\n",
      "      BatchNorm2d-41          [15, 256, 16, 16]             512\n",
      "             ReLU-42          [15, 256, 16, 16]               0\n",
      "       BasicBlock-43          [15, 256, 16, 16]               0\n",
      "           Conv2d-44          [15, 256, 16, 16]         589,824\n",
      "      BatchNorm2d-45          [15, 256, 16, 16]             512\n",
      "             ReLU-46          [15, 256, 16, 16]               0\n",
      "           Conv2d-47          [15, 256, 16, 16]         589,824\n",
      "      BatchNorm2d-48          [15, 256, 16, 16]             512\n",
      "             ReLU-49          [15, 256, 16, 16]               0\n",
      "       BasicBlock-50          [15, 256, 16, 16]               0\n",
      "           Conv2d-51            [15, 512, 8, 8]       1,179,648\n",
      "      BatchNorm2d-52            [15, 512, 8, 8]           1,024\n",
      "             ReLU-53            [15, 512, 8, 8]               0\n",
      "           Conv2d-54            [15, 512, 8, 8]       2,359,296\n",
      "      BatchNorm2d-55            [15, 512, 8, 8]           1,024\n",
      "           Conv2d-56            [15, 512, 8, 8]         131,072\n",
      "      BatchNorm2d-57            [15, 512, 8, 8]           1,024\n",
      "             ReLU-58            [15, 512, 8, 8]               0\n",
      "       BasicBlock-59            [15, 512, 8, 8]               0\n",
      "           Conv2d-60            [15, 512, 8, 8]       2,359,296\n",
      "      BatchNorm2d-61            [15, 512, 8, 8]           1,024\n",
      "             ReLU-62            [15, 512, 8, 8]               0\n",
      "           Conv2d-63            [15, 512, 8, 8]       2,359,296\n",
      "      BatchNorm2d-64            [15, 512, 8, 8]           1,024\n",
      "             ReLU-65            [15, 512, 8, 8]               0\n",
      "       BasicBlock-66            [15, 512, 8, 8]               0\n",
      "AdaptiveAvgPool2d-67            [15, 512, 1, 1]               0\n",
      "           Linear-68                 [15, 1000]         513,000\n",
      "================================================================\n",
      "Total params: 11,689,512\n",
      "Trainable params: 11,689,512\n",
      "Non-trainable params: 0\n",
      "----------------------------------------------------------------\n",
      "Input size (MB): 10.22\n",
      "Forward/backward pass size (MB): 1141.25\n",
      "Params size (MB): 44.59\n",
      "Estimated Total Size (MB): 1196.06\n",
      "----------------------------------------------------------------\n"
     ]
    },
    {
     "name": "stderr",
     "output_type": "stream",
     "text": [
      "/home/jafarid/miniconda3/envs/yogaposes/lib/python3.8/site-packages/torch/cuda/__init__.py:141: UserWarning: CUDA initialization: The NVIDIA driver on your system is too old (found version 11070). Please update your GPU driver by downloading and installing a new version from the URL: http://www.nvidia.com/Download/index.aspx Alternatively, go to: https://pytorch.org to install a PyTorch version that has been compiled with your version of the CUDA driver. (Triggered internally at ../c10/cuda/CUDAFunctions.cpp:108.)\n",
      "  return torch._C._cuda_getDeviceCount() > 0\n"
     ]
    }
   ],
   "source": [
    "\n",
    "full_model = models.resnet18(pretrained=True)\n",
    "summary(full_model, input_size=tuple([3,244,244]), batch_size=15, device='cuda')\n"
   ]
  },
  {
   "cell_type": "code",
   "execution_count": 15,
   "metadata": {},
   "outputs": [
    {
     "data": {
      "text/plain": [
       "512"
      ]
     },
     "execution_count": 15,
     "metadata": {},
     "output_type": "execute_result"
    }
   ],
   "source": [
    "full_model.fc.in_features\n",
    "full_model.fc.out_features"
   ]
  },
  {
   "cell_type": "code",
   "execution_count": 52,
   "metadata": {},
   "outputs": [],
   "source": [
    "class PrepareBaseModel:\n",
    "    def __init__(self, config: PrepareBaseModelConfig):\n",
    "        self.config = config\n",
    "        self.device = 'cuda' if torch.cuda.is_available() else 'cpu'\n",
    "        \n",
    "    def get_base_model(self):\n",
    "        resnet_model = models.resnet18(pretrained=self.config.params_pretrained)\n",
    "        resnet_model.to(self.device)\n",
    "        self.save_model(resnet_model, self.config.resnet_base_model_path)\n",
    "        return resnet_model\n",
    "    \n",
    "    @staticmethod\n",
    "    def _prepare_full_model(model, classes, freeze_till, freeze_all=True):\n",
    "    # internal function that we don't want to run\n",
    "        if freeze_all:\n",
    "            for param in model.parameters():\n",
    "                param.requires_grad = False\n",
    "                \n",
    "        elif (freeze_till is not None) and (freeze_till>0):\n",
    "            for param in model.parameters()[:-freeze_till]:\n",
    "                param.requires_grad = False\n",
    "                \n",
    "        n_inputs = model.fc.in_features\n",
    "        model.fc = torch.nn.Linear(n_inputs, classes)\n",
    "        return model\n",
    "    \n",
    "    def update_base_model(self):\n",
    "        self.full_model = self._prepare_full_model(model= self.get_base_model(), classes=self.config.params_class, freeze_all=True, freeze_till=None)\n",
    "        self.full_model.to(self.device)\n",
    "        summary(self.full_model,input_size=tuple(self.config.params_image_size), device=self.device)\n",
    "        \n",
    "        self.save_model(checkpoint=self.full_model, path=self.config.resnet_updated_base_model_path)\n",
    "        logger.info(f'Saved updated model to {str(self.config.root_dir)}')\n",
    "\n",
    "    \n",
    "    @staticmethod\n",
    "    def save_model(checkpoint:dict,path:Path):\n",
    "        torch.save(checkpoint, path)\n",
    "        "
   ]
  },
  {
   "cell_type": "code",
   "execution_count": 54,
   "metadata": {},
   "outputs": [
    {
     "name": "stdout",
     "output_type": "stream",
     "text": [
      "[2024-03-02 17:54:21,305: INFO: common: yaml file: config/config.yaml loaded successfully]\n",
      "[2024-03-02 17:54:21,306: INFO: common: yaml file: params.yaml loaded successfully]\n",
      "[2024-03-02 17:54:21,307: INFO: common: created directory at: artifacts]\n",
      "[2024-03-02 17:54:21,307: INFO: common: created directory at: artifacts/prepare_base_model]\n",
      "----------------------------------------------------------------\n",
      "        Layer (type)               Output Shape         Param #\n",
      "================================================================\n",
      "            Conv2d-1         [-1, 64, 112, 112]           9,408\n",
      "       BatchNorm2d-2         [-1, 64, 112, 112]             128\n",
      "              ReLU-3         [-1, 64, 112, 112]               0\n",
      "         MaxPool2d-4           [-1, 64, 56, 56]               0\n",
      "            Conv2d-5           [-1, 64, 56, 56]          36,864\n",
      "       BatchNorm2d-6           [-1, 64, 56, 56]             128\n",
      "              ReLU-7           [-1, 64, 56, 56]               0\n",
      "            Conv2d-8           [-1, 64, 56, 56]          36,864\n",
      "       BatchNorm2d-9           [-1, 64, 56, 56]             128\n",
      "             ReLU-10           [-1, 64, 56, 56]               0\n",
      "       BasicBlock-11           [-1, 64, 56, 56]               0\n",
      "           Conv2d-12           [-1, 64, 56, 56]          36,864\n",
      "      BatchNorm2d-13           [-1, 64, 56, 56]             128\n",
      "             ReLU-14           [-1, 64, 56, 56]               0\n",
      "           Conv2d-15           [-1, 64, 56, 56]          36,864\n",
      "      BatchNorm2d-16           [-1, 64, 56, 56]             128\n",
      "             ReLU-17           [-1, 64, 56, 56]               0\n",
      "       BasicBlock-18           [-1, 64, 56, 56]               0\n",
      "           Conv2d-19          [-1, 128, 28, 28]          73,728\n",
      "      BatchNorm2d-20          [-1, 128, 28, 28]             256\n",
      "             ReLU-21          [-1, 128, 28, 28]               0\n",
      "           Conv2d-22          [-1, 128, 28, 28]         147,456\n",
      "      BatchNorm2d-23          [-1, 128, 28, 28]             256\n",
      "           Conv2d-24          [-1, 128, 28, 28]           8,192\n",
      "      BatchNorm2d-25          [-1, 128, 28, 28]             256\n",
      "             ReLU-26          [-1, 128, 28, 28]               0\n",
      "       BasicBlock-27          [-1, 128, 28, 28]               0\n",
      "           Conv2d-28          [-1, 128, 28, 28]         147,456\n",
      "      BatchNorm2d-29          [-1, 128, 28, 28]             256\n",
      "             ReLU-30          [-1, 128, 28, 28]               0\n",
      "           Conv2d-31          [-1, 128, 28, 28]         147,456\n",
      "      BatchNorm2d-32          [-1, 128, 28, 28]             256\n",
      "             ReLU-33          [-1, 128, 28, 28]               0\n",
      "       BasicBlock-34          [-1, 128, 28, 28]               0\n",
      "           Conv2d-35          [-1, 256, 14, 14]         294,912\n",
      "      BatchNorm2d-36          [-1, 256, 14, 14]             512\n",
      "             ReLU-37          [-1, 256, 14, 14]               0\n",
      "           Conv2d-38          [-1, 256, 14, 14]         589,824\n",
      "      BatchNorm2d-39          [-1, 256, 14, 14]             512\n",
      "           Conv2d-40          [-1, 256, 14, 14]          32,768\n",
      "      BatchNorm2d-41          [-1, 256, 14, 14]             512\n",
      "             ReLU-42          [-1, 256, 14, 14]               0\n",
      "       BasicBlock-43          [-1, 256, 14, 14]               0\n",
      "           Conv2d-44          [-1, 256, 14, 14]         589,824\n",
      "      BatchNorm2d-45          [-1, 256, 14, 14]             512\n",
      "             ReLU-46          [-1, 256, 14, 14]               0\n",
      "           Conv2d-47          [-1, 256, 14, 14]         589,824\n",
      "      BatchNorm2d-48          [-1, 256, 14, 14]             512\n",
      "             ReLU-49          [-1, 256, 14, 14]               0\n",
      "       BasicBlock-50          [-1, 256, 14, 14]               0\n",
      "           Conv2d-51            [-1, 512, 7, 7]       1,179,648\n",
      "      BatchNorm2d-52            [-1, 512, 7, 7]           1,024\n",
      "             ReLU-53            [-1, 512, 7, 7]               0\n",
      "           Conv2d-54            [-1, 512, 7, 7]       2,359,296\n",
      "      BatchNorm2d-55            [-1, 512, 7, 7]           1,024\n",
      "           Conv2d-56            [-1, 512, 7, 7]         131,072\n",
      "      BatchNorm2d-57            [-1, 512, 7, 7]           1,024\n",
      "             ReLU-58            [-1, 512, 7, 7]               0\n",
      "       BasicBlock-59            [-1, 512, 7, 7]               0\n",
      "           Conv2d-60            [-1, 512, 7, 7]       2,359,296\n",
      "      BatchNorm2d-61            [-1, 512, 7, 7]           1,024\n",
      "             ReLU-62            [-1, 512, 7, 7]               0\n",
      "           Conv2d-63            [-1, 512, 7, 7]       2,359,296\n",
      "      BatchNorm2d-64            [-1, 512, 7, 7]           1,024\n",
      "             ReLU-65            [-1, 512, 7, 7]               0\n",
      "       BasicBlock-66            [-1, 512, 7, 7]               0\n",
      "AdaptiveAvgPool2d-67            [-1, 512, 1, 1]               0\n",
      "           Linear-68                    [-1, 5]           2,565\n",
      "================================================================\n",
      "Total params: 11,179,077\n",
      "Trainable params: 2,565\n",
      "Non-trainable params: 11,176,512\n",
      "----------------------------------------------------------------\n",
      "Input size (MB): 0.57\n",
      "Forward/backward pass size (MB): 62.79\n",
      "Params size (MB): 42.64\n",
      "Estimated Total Size (MB): 106.00\n",
      "----------------------------------------------------------------\n",
      "[2024-03-02 17:54:21,520: INFO: 3407935668: Saved updated model to artifacts/prepare_base_model]\n"
     ]
    }
   ],
   "source": [
    "try:\n",
    "    config = ConfigurationManager()\n",
    "    prepare_base_model_config = config.get_prepare_base_model_config()\n",
    "    prepare_base_model = PrepareBaseModel(config=prepare_base_model_config)\n",
    "    prepare_base_model.update_base_model()\n",
    "    \n",
    "except Exception as e:\n",
    "    raise e"
   ]
  }
 ],
 "metadata": {
  "kernelspec": {
   "display_name": "yogaposes",
   "language": "python",
   "name": "python3"
  },
  "language_info": {
   "codemirror_mode": {
    "name": "ipython",
    "version": 3
   },
   "file_extension": ".py",
   "mimetype": "text/x-python",
   "name": "python",
   "nbconvert_exporter": "python",
   "pygments_lexer": "ipython3",
   "version": "3.8.0"
  }
 },
 "nbformat": 4,
 "nbformat_minor": 2
}
