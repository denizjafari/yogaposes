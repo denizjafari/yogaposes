{
 "cells": [
  {
   "cell_type": "code",
   "execution_count": 1,
   "metadata": {},
   "outputs": [],
   "source": [
    "import opendatasets as od\n",
    "import os\n",
    "# going back in the directory\n",
    "os.chdir('../')\n"
   ]
  },
  {
   "cell_type": "code",
   "execution_count": 2,
   "metadata": {},
   "outputs": [
    {
     "data": {
      "text/plain": [
       "'/home/jafarid/code/yogaposes'"
      ]
     },
     "execution_count": 2,
     "metadata": {},
     "output_type": "execute_result"
    }
   ],
   "source": [
    "%pwd"
   ]
  },
  {
   "cell_type": "code",
   "execution_count": 3,
   "metadata": {},
   "outputs": [],
   "source": [
    "# working on the entity\n",
    "\n",
    "from dataclasses import dataclass # ensure that the output is what you set to be\n",
    "from pathlib import Path\n",
    "\n",
    "# constructor class, get input and make it like this variable\n",
    "# value of the key in the yml file needs to be of the enforced type below\n",
    "@dataclass(frozen=True)\n",
    "class DataIngestionConfig:\n",
    "    root_dir: Path\n",
    "    source_URL: str\n"
   ]
  },
  {
   "cell_type": "code",
   "execution_count": 4,
   "metadata": {},
   "outputs": [],
   "source": [
    "from yogaposes.constants import *\n",
    "\n",
    "from yogaposes.utils.common import read_yaml, create_directories"
   ]
  },
  {
   "cell_type": "code",
   "execution_count": 5,
   "metadata": {},
   "outputs": [],
   "source": [
    "class configurationManager:\n",
    "    def __init__(self, config_file_path = CONFIG_FILE_PATH, params_file_path = PARAMS_FILE_PATH):\n",
    "        self.config = read_yaml(config_file_path)\n",
    "        self.params = read_yaml(params_file_path)\n",
    "\n",
    "        create_directories([self.config.artifacts_root])\n",
    "\n",
    "    def get_data_ingestion_config(self) -> DataIngestionConfig:\n",
    "        config = self.config.data_ingestion\n",
    "        create_directories([config.root_dir])\n",
    "\n",
    "        data_ingestion_config = DataIngestionConfig(root_dir= config.root_dir, source_URL=config.source_URL)\n",
    "\n",
    "        return data_ingestion_config\n"
   ]
  },
  {
   "cell_type": "code",
   "execution_count": 6,
   "metadata": {},
   "outputs": [],
   "source": [
    "import opendatasets as od\n",
    "from yogaposes import logger \n",
    "from yogaposes.utils.common import get_size\n",
    "import os\n",
    "import shutil"
   ]
  },
  {
   "cell_type": "code",
   "execution_count": 7,
   "metadata": {},
   "outputs": [],
   "source": [
    "class DataIngestion():\n",
    "    def __init__(self, config:DataIngestionConfig):\n",
    "        self.config = config \n",
    "    \n",
    "    def download_file(self) -> str:\n",
    "\n",
    "        try:\n",
    "            file_name = 'kaggle.json'\n",
    "            dataset_url = self.config.source_URL\n",
    "            files_in_folder = os.listdir(self.config.root_dir)\n",
    "\n",
    "            if file_name not in files_in_folder:\n",
    "                shutil.copy(os.path.join('research/',file_name), self.config.root_dir)\n",
    "\n",
    "            logger.info(f'Downloading data from {dataset_url} to {str(self.config.root_dir)}')\n",
    "            os.chdir(self.config.root_dir)\n",
    "            od.download(dataset_url)\n",
    "            logger.info(f'Succesfully Downloaded data from {dataset_url} to {str(self.config.root_dir)}')\n",
    "\n",
    "        except Exception as e:\n",
    "            raise e"
   ]
  },
  {
   "cell_type": "code",
   "execution_count": 8,
   "metadata": {},
   "outputs": [
    {
     "name": "stdout",
     "output_type": "stream",
     "text": [
      "[2024-02-29 22:37:19,414: INFO: common: yaml file: config/config.yaml loaded successfully]\n",
      "[2024-02-29 22:37:19,415: INFO: common: yaml file: params.yaml loaded successfully]\n",
      "[2024-02-29 22:37:19,415: INFO: common: created directory at: artifacts]\n",
      "[2024-02-29 22:37:19,416: INFO: common: created directory at: artifacts/data_ingestion]\n",
      "[2024-02-29 22:37:19,417: INFO: 1457376540: Downloading data from https://www.kaggle.com/datasets/niharika41298/yoga-poses-dataset to artifacts/data_ingestion]\n",
      "Downloading yoga-poses-dataset.zip to ./yoga-poses-dataset\n"
     ]
    },
    {
     "name": "stderr",
     "output_type": "stream",
     "text": [
      "100%|██████████| 288M/288M [00:26<00:00, 11.5MB/s] \n"
     ]
    },
    {
     "name": "stdout",
     "output_type": "stream",
     "text": [
      "\n",
      "[2024-02-29 22:37:47,092: INFO: 1457376540: Succesfully Downloaded data from https://www.kaggle.com/datasets/niharika41298/yoga-poses-dataset to artifacts/data_ingestion]\n"
     ]
    }
   ],
   "source": [
    "try:\n",
    "    config = configurationManager()\n",
    "    data_ingestion_config = config.get_data_ingestion_config()\n",
    "    data_ingestion = DataIngestion(config=data_ingestion_config)\n",
    "    data_ingestion.download_file()\n",
    "\n",
    "except Exception as e:\n",
    "    raise e"
   ]
  },
  {
   "cell_type": "code",
   "execution_count": null,
   "metadata": {},
   "outputs": [],
   "source": []
  }
 ],
 "metadata": {
  "kernelspec": {
   "display_name": "yogaposes",
   "language": "python",
   "name": "python3"
  },
  "language_info": {
   "codemirror_mode": {
    "name": "ipython",
    "version": 3
   },
   "file_extension": ".py",
   "mimetype": "text/x-python",
   "name": "python",
   "nbconvert_exporter": "python",
   "pygments_lexer": "ipython3",
   "version": "3.8.0"
  }
 },
 "nbformat": 4,
 "nbformat_minor": 2
}
